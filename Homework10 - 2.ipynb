{
  "nbformat": 4,
  "nbformat_minor": 0,
  "metadata": {
    "colab": {
      "provenance": []
    },
    "kernelspec": {
      "name": "python3",
      "display_name": "Python 3"
    },
    "language_info": {
      "name": "python"
    }
  },
  "cells": [
    {
      "cell_type": "markdown",
      "source": [
        "Задача 44: * В ячейке ниже представлен код генерирующий DataFrame, которая состоит всего из 1 столбца. Ваша задача перевести его в one hot вид. Сможете ли вы это сделать без get_dummies?\n"
      ],
      "metadata": {
        "id": "KMn-5R0M2Guh"
      }
    },
    {
      "cell_type": "code",
      "source": [
        "import random\n",
        "lst = ['robot'] * 10\n",
        "lst += ['human'] * 10\n",
        "random.shuffle(lst)\n",
        "data = pd.DataFrame({'whoAmI':lst})\n",
        "data.head()"
      ],
      "metadata": {
        "id": "tdRwREQ42VOK"
      },
      "execution_count": null,
      "outputs": []
    },
    {
      "cell_type": "code",
      "source": [
        "import random\n",
        "import pandas as pd\n",
        "\n",
        "lst = ['robot'] * 10\n",
        "lst += ['human'] * 10\n",
        "random.shuffle(lst)\n",
        "data = pd.DataFrame({'whoAmI':lst})\n",
        "\n",
        "# Создаем словарь, который будет использоваться для преобразования категориальных данных в числовые\n",
        "map_dict = {'robot': 1, 'human': 0}\n",
        "\n",
        "# Используем метод map для преобразования категориальных данных в числовые\n",
        "data['whoAmI'] = data['whoAmI'].map(map_dict)\n",
        "\n",
        "data.head()"
      ],
      "metadata": {
        "id": "OkN8M5ZO2Xj4"
      },
      "execution_count": null,
      "outputs": []
    },
    {
      "cell_type": "markdown",
      "source": [
        "В этом коде мы создаем словарь map_dict, который сопоставляет категории 'robot' и 'human' с числовыми значениями 1 и 0 соответственно. Затем мы используем метод map для преобразования столбца 'whoAmI' в соответствии с этим словарём."
      ],
      "metadata": {
        "id": "w6JK1Oau2reL"
      }
    }
  ]
}